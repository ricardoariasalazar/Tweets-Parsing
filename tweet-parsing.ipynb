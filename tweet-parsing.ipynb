{
 "cells": [
  {
   "cell_type": "markdown",
   "metadata": {},
   "source": [
    "# Tweets Preprocessing\n",
    "**Date:** 09/09/2020                                    \n",
    "*Version: 1.0*\n",
    "\n",
    "\n",
    "## 1. Introduction\n",
    "Extract data from semi-structured text files. The data-set that contains information about COVID-19 related tweets was provided. Each text file contains information about the tweets, and the task is to extract the data and transform the data into the XML format."
   ]
  },
  {
   "cell_type": "markdown",
   "metadata": {},
   "source": [
    "## 2. Import libraries"
   ]
  },
  {
   "cell_type": "code",
   "execution_count": 1,
   "metadata": {},
   "outputs": [],
   "source": [
    "import os\n",
    "import re\n",
    "import langid\n",
    "import pandas as pd\n",
    "import nltk\n",
    "from nltk.tokenize import RegexpTokenizer \n",
    "from nltk.corpus import stopwords\n",
    "from nltk.tokenize import MWETokenizer\n",
    "from nltk.collocations import *\n",
    "from itertools import chain\n",
    "import itertools"
   ]
  },
  {
   "cell_type": "markdown",
   "metadata": {},
   "source": [
    "## 3. Parsing Text Files\n",
    "\n",
    "### 3.1. Examining and loading data\n",
    "\n",
    "The first step is identify the location of all the txt files that are going to be processed. The location of those files is in a folder called part1 that is in the same location of this notebook. After we found them, we created a list with the names of all of the files to be processed."
   ]
  },
  {
   "cell_type": "code",
   "execution_count": 2,
   "metadata": {},
   "outputs": [
    {
     "name": "stdout",
     "output_type": "stream",
     "text": [
      "['2020-03-22_1066.txt', '2020-03-22_1311.txt', '2020-03-22_1363.txt', '2020-03-22_1412.txt', '2020-03-22_1551.txt']\n",
      "\n",
      "Number of files to be processed: 2416\n"
     ]
    }
   ],
   "source": [
    "filenames = [] # List to store the name of the files to be processed\n",
    "for filename in os.listdir(os.path.join(os.getcwd(), 'tweets/')): # Get every file in the folder mentioned\n",
    "    filenames.append(filename)\n",
    "\n",
    "print(filenames[:5]) # Print the name of the first 5 files to be processed\n",
    "print('\\nNumber of files to be processed: '+ str(len(filenames))) # Print the number of files to be processed"
   ]
  },
  {
   "cell_type": "markdown",
   "metadata": {},
   "source": [
    "Then we take a look to the information stored in this files"
   ]
  },
  {
   "cell_type": "code",
   "execution_count": 4,
   "metadata": {},
   "outputs": [
    {
     "name": "stdout",
     "output_type": "stream",
     "text": [
      "{\"data\":[{\"id\":\"1241636537961517056\",\"created_at\":\"2020-03-22T08:03:13.000Z\",\"text\":\"The last line though ..what a tone.. https://t.co/TqH0DBWhB4\"},{\"id\":\"1241636537990664193\",\"created_at\":\"2020-03-22T08:03:13.000Z\",\"text\":\"\\uD83D\\uDC47 https://t.co/sQmCOVaL3l\"},{\"id\":\"1241636538061996038\",\"created_at\":\"2020-03-22T08:03:13.000Z\",\"text\":\"@BDUTT https://t.co/Vylmpnh8c4\"},{\"id\":\"1241636538146004993\",\"created_at\":\"2020-03-22T08:03:13.000Z\",\"text\":\"#Israel: #coronavirus\\n▫️945 enfermos \\n▫️1 muerte\\n\\nHasta hoy, no se ha aplicado cuarentena obligatoria, se ha apelado a la responsabilidad individual, se han restringido desplazamientos y a transgresores, aplicación de fuertes multas.\\n\\n#coronavirus \\n#COVID19\"},{\"id\":\"1241636538192023553\",\"created_at\":\"2020-03-22T08:03:13.000Z\",\"text\":\"@TwitterSupport. This is dangerous disinformation that will lead to deaths. Please remove this tweet. https://t.co/eRHkanb4RA\"},{\"id\":\"1241636538238349318\",\"created_at\":\"2020-03-22T08:03:13.000Z\",\"text\":\"Sebi na one President be this https://t.co/zrl9zXeZ71\"},{\"id\":\"1241636538326401024\",\"created_at\":\"2020-03-22T08:03:13.000Z\",\"text\":\"*cue eerie music* https://t.co/mTH0JmhayG\"},{\"id\":\"1241636541727940608\",\"created_at\":\"2020-03-22T08:03:14.000Z\",\"text\":\"Che presa per il culo... #Coronavirus, ecco l’#Italia che non si ferma: quali sono i servizi essenziali - Il Sole 24 ORE @sole24ore https://t.co/T6pBLn4cHf\"},{\"id\":\"1241636541882982400\",\"created_at\":\"2020-03-22T08:03:14.000Z\",\"text\":\"This tweet didn’t age well. https://t.co/4o3WZBTULZ\"},{\"id\":\"1241636542067527681\",\"created_at\":\"2020-03-22T08:03:14.000Z\",\"text\":\"@OFB_India #JantaCurfewMarch22 @narendramodi\\nTo join the fight against coronavirus, I have taken the Janta Curfew Pledge and committed myself towards keeping the country safe. You can also take the pledge at https://t.co/eTCtdnmXA0 https://t.co/UDPNW1LhnN via @mygovindia\"},{\"id\":\"1241636542147248128\",\"created_at\":\"2020-03-22T08:03:14.000Z\",\"text\":\"India Today calling all frauds on TV for commenting on #CoronavirusPandemic. Right now double Sri Dollar fraud on TV after this fraud https://t.co/7D2BuQD5z8\"},{\"id\":\"1241636542227103744\",\"created_at\":\"2020-03-22T08:03:14.000Z\",\"text\":\"The latest The AnDor Today!! https://t.co/M9qEP8xpu9 #covid19 #presidentcuomo\"},{\"id\":\"1241636542361137152\",\"created_at\":\"2020-03-22T08:03:14.000Z\",\"text\":\"HAAHAHAHHAHAHAHAHAHAH LAGI2 budak2 ni @intndzulkapri @niesmiera05 @frhliaxx https://t.co/lGnMSIywqz\"},{\"id\":\"1241636542470221824\",\"created_at\":\"2020-03-22T08:03:14.000Z\",\"text\":\"Medical Professionals to PM Ardern 4 measures to protect NZ from COVID19 - Sign the Petition! https://t.co/NvJOHBKj3U via @Change\"},{\"id\":\"1241636542591819776\",\"created_at\":\"2020-03-22T08:03:14.000Z\",\"text\":\"He/she is more dangerous then the #CoronavirusPandemic https://t.co/xHdRjHZaDl\"},{\"id\":\"1241636542680088576\",\"created_at\":\"2020-03-22T08:03:14.000Z\",\"text\":\"Pas bien grave les 4/5 d’immigrés là dedans doivent avoir un système immunitaire bien solide... \\nEnculés de ministre https://t.co/CLS6FE6IWK\"},{\"id\":\"1241636545079066625\",\"created_at\":\"2020-03-22T08:03:15.000Z\",\"text\":\"Looks like the US is going to win this.... Oh this isn't something we want to win? Oops. #coronavirus #COVID19 #TrumpPandemic https://t.co/uwoCdMbmFM\"},{\"id\":\"1241636545972654081\",\"created_at\":\"2020-03-22T08:03:15.000Z\",\"text\":\"We are in this sh*t together https://t.co/UzntNrIsaK\"},{\"id\":\"1241636546035372032\",\"created_at\":\"2020-03-22T08:03:15.000Z\",\"text\":\"For the first time, savage animals are in cage and wildlife is out roaming \\uD83D\\uDE09\\uD83E\\uDD2B\\n\\n#CoronavirusPandemic #COVID19outbreak #CoronaUpdatesInIndia #JantaCurfewMarch22\"},{\"id\":\"1241636546098466817\",\"created_at\":\"2020-03-22T08:03:15.000Z\",\"text\":\"La France n'a pas de tests... https://t.co/QLfFCVax8b\"},{\"id\":\"1241636546215886849\",\"created_at\":\"2020-03-22T08:03:15.000Z\",\"text\":\"Still not including the #total for #Ireland, Fergal ?\\nWhat is it with you #FergalBowers &amp; @rtenews , that you choose to ignore the #IrishCitizens that live in #Six #Irish #Counties by publishing incorrect #Statistics for the whole #Island ???\\n#Covid19 #CoronaVirus @molloy1916 https://t.co/bdR507V8rJ\"},{\"id\":\"1241636546274643969\",\"created_at\":\"2020-03-22T08:03:15.000Z\",\"text\":\"\\uD83D\\uDC47 https://t.co/XMtojIGDDz via @ _ArtSHINE\"},{\"id\":\"1241636546475888642\",\"created_at\":\"2020-03-22T08:03:15.000Z\",\"text\":\"Confirman que el sueño murió de Coronavirus\"},{\"id\":\"1241636546559737857\",\"created_at\":\"2020-03-22T08:03:15.000Z\",\"text\":\"*López Gatell sostiene que son suficientes 41 laboratorios para pruebas de detección de Covid-19 \\n\\n*El gobierno federal mantiene frenada la autorización de laboratorios privados\\n \\n*La capacitación y autorización de los únicos dos laboratorios privados demoró tres semanas\"},{\"id\":\"1241636546647859200\",\"created_at\":\"2020-03-22T08:03:15.000Z\",\"text\":\"“All people are inescapably interconnected, and the more we can come together to solve our problems, the better off we will all be.” #dialogue  via @NYTOpinion https://t.co/T0bnUplakM\"},{\"id\":\"1241636549957042177\",\"created_at\":\"2020-03-22T08:03:16.000Z\",\"text\":\"Ya right. Of course no inside information was provided. What a bunch of crap as many of us lose 25-35 percent of our 401K’s. https://t.co/5fksbSZuCk\"},{\"id\":\"1241636550003351554\",\"created_at\":\"2020-03-22T08:03:16.000Z\",\"text\":\"Tenemos las medidas de confinamiento mas duras de Europa??\\nPues mira lo que dicen por aquí de medidas como las que estás tomando @sanchezcastejon \\nNo seas borrico y no esperes mas!! https://t.co/TB0CWuOJ35\"},{\"id\":\"1241636550221246464\",\"created_at\":\"2020-03-22T08:03:16.000Z\",\"text\":\"In Asian countries that initially faced the gravest risk from the coronavirus, the shambolic U.S. response to the pandemic has elicited confusion, horror and even a measure of pity. By ⁦@latimes⁩ #coronavirus #COVID19 #singapore #taiwan https://t.co/L5PXLIeoEO\"},{\"id\":\"1241636550590554114\",\"created_at\":\"2020-03-22T08:03:16.000Z\",\"text\":\"Criticise and condemn every person who is violating or ignoring anti #covid19 instructions. It is about people and not this or that party. Try to understand what messages are coming from abroad. Dont be a blind and dumb Sharif  or Zardsri follower https://t.co/k5CYuYTPcU\"},{\"id\":\"1241636550640685057\",\"created_at\":\"2020-03-22T08:03:16.000Z\",\"text\":\"Stop panic buying, idiots https://t.co/Rx28jLNnhK\"},{\"id\":\"1241636550678589440\",\"created_at\":\"2020-03-22T08:03:16.000Z\",\"text\":\"And #India has taken the #COVID19 issue very seriously! https://t.co/xTJ1xzpnay\"},{\"id\":\"1241636550846353408\",\"created_at\":\"2020-03-22T08:03:16.000Z\",\"text\":\"State health minister @Nitinbhai_Patel says there are five more positive cases of #Covid19 reported today in Gujarat.\\n\\n#CoronavirusPandemic #COVID19outbreak #GujaratFightsCovid19 \\n#Covid_19india\"},{\"id\":\"1241636550951256066\",\"created_at\":\"2020-03-22T08:03:16.000Z\",\"text\":\"Bravo aux Nantais et Parisiens qui ont voulu aller s’aérer pendant le confinement \\uD83D\\uDCAA\\uD83C\\uDFFB #champions https://t.co/OJf1K2leB5\"},{\"id\":\"1241636551022399490\",\"created_at\":\"2020-03-22T08:03:16.000Z\",\"text\":\"Kimak geli gi mati sial https://t.co/BnnBvR6jcr\"},{\"id\":\"1241636551160979456\",\"created_at\":\"2020-03-22T08:03:16.000Z\",\"text\":\"yo muy contenta porque le advertí a sandro mil veces q no saliera de la casa y al final va a terminar con coronavirus y le voy a poder decir JAjajaJAJAJJAJAjaaaa https://t.co/p5o5ZqvD3i\"},{\"id\":\"1241636551177564161\",\"created_at\":\"2020-03-22T08:03:16.000Z\",\"text\":\"Another bullshit https://t.co/1726nRazfB\"},{\"id\":\"1241636554143039488\",\"created_at\":\"2020-03-22T08:03:17.000Z\",\"text\":\"Boris Johnson: Close all holiday &amp; caravan parks in wales to stop covid-19 - Sign the Petition! https://t.co/vWkEoO1dUa via @UKChange\"},{\"id\":\"1241636554642251777\",\"created_at\":\"2020-03-22T08:03:17.000Z\",\"text\":\"CORONAVIRUS TRUMP Sun, 22 Mar 2020 03:00:00 CDT\"},{\"id\":\"1241636554692530176\",\"created_at\":\"2020-03-22T08:03:17.000Z\",\"text\":\"@BoothsCountry https://t.co/qTmiYKOCUa\\n\\nWhy dont you do similar\"},{\"id\":\"1241636554696728577\",\"created_at\":\"2020-03-22T08:03:17.000Z\",\"text\":\"Ανοιχτά και σήμερα τα σούπερ μάρκετ #newpost #κορωνοιος #COVID2019 #CoronavirusPandemic #covid19Gr #menoume_spiti #μενουμεσπιτι #stayhome https://t.co/wc1pjrSukf\"},{\"id\":\"1241636554814128128\",\"created_at\":\"2020-03-22T08:03:17.000Z\",\"text\":\"#BamTeddy \\n#CoronavirusPandemic \\n#StayAtHome \\n#COVIDIOT \\n#COVID19 \\n#COVID19outbreak \\n#Covid_19 https://t.co/zb0YePRsu2\"},{\"id\":\"1241636554814218241\",\"created_at\":\"2020-03-22T08:03:17.000Z\",\"text\":\"#coronavirus https://t.co/LnDBClDpyg\"},{\"id\":\"1241636554956824576\",\"created_at\":\"2020-03-22T08:03:17.000Z\",\"text\":\"#komuntemple #coronavirus #COVIDIOT https://t.co/epl6HJDruM\"},{\"id\":\"1241636555107774464\",\"created_at\":\"2020-03-22T08:03:17.000Z\",\"text\":\"El 70% de los ingresados en UCI por el coronavirus tiene más de 60 años\\n\\nhttps://t.co/67Jif5S643\"},{\"id\":\"1241636558303789057\",\"created_at\":\"2020-03-22T08:03:18.000Z\",\"text\":\"What coronavirus has taught us about inequality @AJEnglish  https://t.co/5m7YH6ehlT\"},{\"id\":\"1241636558316244992\",\"created_at\":\"2020-03-22T08:03:18.000Z\",\"text\":\"@JasonYanowitz I was one of the most optimistic at the beginning of March “it’s just a flu” I said, but it wasn’t and I’m so worried and sad for my country. military vehicles carrying the coronavirus dead coffins outside the city for cremation because there is no place even in the cemeteries... https://t.co/16hBPsTd21\"},{\"id\":\"1241636558316470272\",\"created_at\":\"2020-03-22T08:03:18.000Z\",\"text\":\"Coronavirus: The rough sleepers who can't self-isolate https://t.co/qIKyQuaAkM\"},{\"id\":\"1241636558601478145\",\"created_at\":\"2020-03-22T08:03:18.000Z\",\"text\":\"YaAllah kau bagilah balasan setimpal kepada orang yang ambik kesempatan diwaktu kesusahan.\\n\\nTergamaknya manusia sanggup curi duit orang waktu negara gini https://t.co/tR1NC0W3UL\"},{\"id\":\"1241636558681276416\",\"created_at\":\"2020-03-22T08:03:18.000Z\",\"text\":\"@KariukiMuiri This historical fact informs us of the importance of restraining people from high risk countries from non essential international  travel because this is exposing Africa to the coronavirus..\"},{\"id\":\"1241636559155122179\",\"created_at\":\"2020-03-22T08:03:18.000Z\",\"text\":\"Why Italy? The factors behind a coronavirus disaster - CNA https://t.co/HJTLXkK9XC\"},{\"id\":\"1241636559373266944\",\"created_at\":\"2020-03-22T08:03:18.000Z\",\"text\":\"कोरोना का एक भी मामला नहीं आज सीधे मौत? लू और चमकी की तरह कितने बिहारियों की बलि देने के बाद लॉक डाउन होगा @NitishKumar जी।\\n\\nकोरोना से मौत के बाद परिजन अपनी निजी गाड़ी से लाश को मुंगेर ले गए। गाड़ी में कितने लोग होंगे और ये संक्रमण कैसे रुकेगा? #JantaCurfew #CoronavirusPandemic\"},{\"id\":\"1241636562724704258\",\"created_at\":\"2020-03-22T08:03:19.000Z\",\"text\":\"Janta Curfew: शाहीन बाग की तर्ज पर देवबंद में भी सीएए के खिलाफ धरना जारी, कोरोना के खौफ से महिलाओं ने बनाई दूरी\\nhttps://t.co/7haZNrwIlH\\n#JantaCurfewMarch22 #CoronavirusPandemic #CAAprotest @saharanpurpol @Uppolice @CMOfficeUP @PMOIndia\"},{\"id\":\"1241636562745659392\",\"created_at\":\"2020-03-22T08:03:19.000Z\",\"text\":\"Nya Zealand har just kommit in i fas 2 gällande #covid19 , alltså den fas Sverige (än så länge) befinner sig i - och rekommendationerna är identiska med dem i Sverige. Kanske dags informera sig om och ställa in sig på att agera i linje med fas 3? #svpol https://t.co/EDfvN9wiNK\"},{\"id\":\"1241636562850496518\",\"created_at\":\"2020-03-22T08:03:19.000Z\",\"text\":\"Un estudio demuestra cómo se propaga el coronavirus tan rápido a través de personas sin síntomas https://t.co/YBSEJNH76f\"},{\"id\":\"1241636563219439616\",\"created_at\":\"2020-03-22T08:03:19.000Z\",\"text\":\"Line aku sorang ja ka yang #stayathome jugak time covid19 nih??\\uD83E\\uDD14\"},{\"id\":\"1241636563454320642\",\"created_at\":\"2020-03-22T08:03:19.000Z\",\"text\":\"India &gt; Sheikh Abdullah &gt; Kashmir\\nCoronaVirus &gt; Imtiyaz Ismail Parry &gt; Kashmir\\n\\nGhar ka bhedi Lanka Dhaye\"},{\"id\":\"1241636567262941184\",\"created_at\":\"2020-03-22T08:03:20.000Z\",\"text\":\"Thanks to cpvets for providing this information on #CoronaVirus and #PetHealth.\\n\\nFor information relevant to your own circumstances, please contact your #local #vets. \\n#Repost cpvets\\n• • • • • •\\nThere are a lot of… https://t.co/jHvQm6TC7U\"},{\"id\":\"1241636571801157632\",\"created_at\":\"2020-03-22T08:03:21.000Z\",\"text\":\"Zum Glück hat die BRD (noch?) keine FCKFD-CDU-CSU-FDP Regierung. https://t.co/c30hXIuwm7\"},{\"id\":\"1241636571817881600\",\"created_at\":\"2020-03-22T08:03:21.000Z\",\"text\":\"But please #StayHomeSaveLives this #mothersday2020 to send #COVID19 packing. \\uD83D\\uDE4F\\n\\nCoronavirus: Boris Johnson in Mother's Day warning amid concern for NHS https://t.co/kHwsM3BVUY\"},{\"id\":\"1241636571910221825\",\"created_at\":\"2020-03-22T08:03:21.000Z\",\"text\":\"https://t.co/exrqJSrNkB\"},{\"id\":\"1241636574967640064\",\"created_at\":\"2020-03-22T08:03:22.000Z\",\"text\":\"\\\"The life of coronavirus isn't 12 hours and clapping does not kill the virus\\\"  https://t.co/Mq4RFumyL9\"},{\"id\":\"1241636575168958464\",\"created_at\":\"2020-03-22T08:03:22.000Z\",\"text\":\"Social distancing has Serena ‘on edge’ amid coronavirus pandemic https://t.co/FgKkZRnOdT https://t.co/3SeBAFf1nS\"},{\"id\":\"1241636575194169344\",\"created_at\":\"2020-03-22T08:03:22.000Z\",\"text\":\"Semoga Tuhan selalu menjaga dan melindungi anggota TNI, paramedis, dokter dan orang\\\" yg berada di garda terdepan penanganan virus covid19 https://t.co/zHnm2FS72Q\"},{\"id\":\"1241636575450222592\",\"created_at\":\"2020-03-22T08:03:22.000Z\",\"text\":\"We must not owe them salary or allowances https://t.co/FYvkEPyJ4s\"},{\"id\":\"1241636576075173888\",\"created_at\":\"2020-03-22T08:03:22.000Z\",\"text\":\"We stand by Italy during these trying times. Share your Support for our Italian friends, They are our colleagues, friends and family. Cari amici, siamo con voi. #COVID19 #WeStandWithItaly\"},{\"id\":\"1241636579057094659\",\"created_at\":\"2020-03-22T08:03:23.000Z\",\"text\":\"My 4 yrs daughter showing How to take care from #coronavirus\\n#Covid19India \\n#Covid_19india #COVID19outbreak https://t.co/q0LQAG3CuA\"},{\"id\":\"1241636579250061312\",\"created_at\":\"2020-03-22T08:03:23.000Z\",\"text\":\"He's done it, coronavirus is no more https://t.co/WMAgA69d9m\"},{\"id\":\"1241636579254456320\",\"created_at\":\"2020-03-22T08:03:23.000Z\",\"text\":\"@vigil_nte @ANI @xDDDGuy With coronavirus? It means you have the possession of coronavirus. It should be against coronavirus.\"},{\"id\":\"1241636579275345920\",\"created_at\":\"2020-03-22T08:03:23.000Z\",\"text\":\"HUMOUR. J'adore, je kiffe, je me bidonne. Merci à ce Corse plein d'humour de nous faire rire. https://t.co/5jSyHiRrLR\"},{\"id\":\"1241636579346649089\",\"created_at\":\"2020-03-22T08:03:23.000Z\",\"text\":\"Suposo que no és necessari fer cap comparació amb el Sr. Sánchez no? https://t.co/uTjPCSzEDj\"},{\"id\":\"1241636579384442882\",\"created_at\":\"2020-03-22T08:03:23.000Z\",\"text\":\"Nice Post on the meaning of sport during this Covid19 crisis \\uD83D\\uDC49 What is #sport for in the age of #coronavirus? via @SportsPro https://t.co/TujtsAJ8S0\"},{\"id\":\"1241636579518509056\",\"created_at\":\"2020-03-22T08:03:23.000Z\",\"text\":\"Everyday we are flooded by a lot of gyan on #Covid19 but honestly nobody is an expert on when will Corona Virus come to an end, but we can estimate how much damage it has caused to equity markets &amp; take a sneak peek on how much behind the markets have gone back in history (2/n)\"},{\"id\":\"1241636579526967296\",\"created_at\":\"2020-03-22T08:03:23.000Z\",\"text\":\"Utilise self-quarantine in learning something new and engage yourself in healthy activity. Here are few things you can do to make it all worthwhile! \\nStay at Home - Stay Safe \\uD83C\\uDFDA #covid_19 #QuarantineActivities #CoronavirusPandemic #coronainpakistan https://t.co/Xz4E24lbqc\"},{\"id\":\"1241636580131037184\",\"created_at\":\"2020-03-22T08:03:23.000Z\",\"text\":\"Comment gagner plus d'argent avec son site/blog sur https://t.co/szYOsN185i #ndd En España/6h: 1.#covid19 2.#covid_19 3.#coronavirus 4.#sanchezdimision 5.#pedroelsepulturero\"},{\"id\":\"1241636580294643712\",\"created_at\":\"2020-03-22T08:03:23.000Z\",\"text\":\"@SarahIJoseph As they reopen schools in China and Japan, our government’s absurd herd immunity strategy and failure to close things down for so many weeks puts all of us in an unsafe and dangerous position.\\n\\nIn pursuit of obscure ideology it is criminal #covid19\"},{\"id\":\"1241636583423475712\",\"created_at\":\"2020-03-22T08:03:24.000Z\",\"text\":\"Happy Mother’s Day to all the human and doggo mums out there!! You do a great job of generally keeping us alive \\uD83D\\uDE02 this year may not be your year because of the rude intrusion of Covid-19 but we shall all make up for… https://t.co/DjxccxhLJM\"},{\"id\":\"1241636583822045184\",\"created_at\":\"2020-03-22T08:03:24.000Z\",\"text\":\"No Nigerian footballer tried to do something for the people concerning covid19 while their counterparts in other countries are doing, tomorrow now when they get issues they expect same people who they didn't help  in times of need,to contribute and help them\"},{\"id\":\"1241636583947853824\",\"created_at\":\"2020-03-22T08:03:24.000Z\",\"text\":\"Dios que fuerte, voy a llorar https://t.co/KKrJNun9f1\"},{\"id\":\"1241636584052666369\",\"created_at\":\"2020-03-22T08:03:24.000Z\",\"text\":\"My heart just broke a little. https://t.co/Vr0ZI1M4wt\"},{\"id\":\"1241636584304398337\",\"created_at\":\"2020-03-22T08:03:24.000Z\",\"text\":\"@gabyromanomc @4t_Vlman @marvinicio @adrifadi @ClauMor32263091 @norma22flores @C4rlo2Gonz4l3z https://t.co/awZr5qvXeb\"},{\"id\":\"1241636587538087937\",\"created_at\":\"2020-03-22T08:03:25.000Z\",\"text\":\"Let’s all pray this happens in his holy name https://t.co/fApBGu4xCg https://t.co/C64vRAppZw\"},{\"id\":\"1241636587554983936\",\"created_at\":\"2020-03-22T08:03:25.000Z\",\"text\":\"Quand ton idéologie mortifère te pousse à dire n’importe quoi pour favoriser la propagation  d’un virus mortel... \\nD’habitude, le législateur crée-t-il des délits qui ne seraient punis que de « peines de prison avec sursis » ? https://t.co/3aEw5unhV9\"},{\"id\":\"1241636587936481280\",\"created_at\":\"2020-03-22T08:03:25.000Z\",\"text\":\"Y mañana seran 500. La próxima semana 1,000, y estos los que se contabilizan. https://t.co/GZg0PyDQEq\"},{\"id\":\"1241636588339093505\",\"created_at\":\"2020-03-22T08:03:25.000Z\",\"text\":\"But restoring all the best things you had in your life. No hate https://t.co/BHlJhhalg4\"}],\"errors\":[{\"detail\":\"Could not find tweet with ids: [1241636541417566208].\",\"title\":\"Not Found Error\",\"resource_type\":\"tweet\",\"parameter\":\"ids\",\"value\":\"1241636541417566208\",\"type\":\"https://api.twitter.com/labs/2/problems/resource-not-found\"},{\"resource_id\":\"1241636546681462785\",\"section\":\"data\",\"title\":\"Authorization Error\",\"detail\":\"Sorry, you are not authorized to see this Tweet.\",\"resource_type\":\"tweet\",\"type\":\"https://api.twitter.com/labs/2/problems/not-authorized-for-resource\"},{\"detail\":\"Could not find tweet with ids: [1241636554776379393].\",\"title\":\"Not Found Error\",\"resource_type\":\"tweet\",\"parameter\":\"ids\",\"value\":\"1241636554776379393\",\"type\":\"https://api.twitter.com/labs/2/problems/resource-not-found\"},{\"detail\":\"Could not find tweet with ids: [1241636554855952388].\",\"title\":\"Not Found Error\",\"resource_type\":\"tweet\",\"parameter\":\"ids\",\"value\":\"1241636554855952388\",\"type\":\"https://api.twitter.com/labs/2/problems/resource-not-found\"},{\"resource_id\":\"1241636555317485568\",\"section\":\"data\",\"title\":\"Authorization Error\",\"detail\":\"Sorry, you are not authorized to see this Tweet.\",\"resource_type\":\"tweet\",\"type\":\"https://api.twitter.com/labs/2/problems/not-authorized-for-resource\"},{\"resource_id\":\"1241636559125970944\",\"section\":\"data\",\"title\":\"Authorization Error\",\"detail\":\"Sorry, you are not authorized to see this Tweet.\",\"resource_type\":\"tweet\",\"type\":\"https://api.twitter.com/labs/2/problems/not-authorized-for-resource\"},{\"resource_id\":\"1241636562816905216\",\"section\":\"data\",\"title\":\"Authorization Error\",\"detail\":\"Sorry, you are not authorized to see this Tweet.\",\"resource_type\":\"tweet\",\"type\":\"https://api.twitter.com/labs/2/problems/not-authorized-for-resource\"},{\"resource_id\":\"1241636563160711168\",\"section\":\"data\",\"title\":\"Authorization Error\",\"detail\":\"Sorry, you are not authorized to see this Tweet.\",\"resource_type\":\"tweet\",\"type\":\"https://api.twitter.com/labs/2/problems/not-authorized-for-resource\"},{\"detail\":\"Could not find tweet with ids: [1241636563253108736].\",\"title\":\"Not Found Error\",\"resource_type\":\"tweet\",\"parameter\":\"ids\",\"value\":\"1241636563253108736\",\"type\":\"https://api.twitter.com/labs/2/problems/resource-not-found\"},{\"detail\":\"Could not find tweet with ids: [1241636566759550976].\",\"title\":\"Not Found Error\",\"resource_type\":\"tweet\",\"parameter\":\"ids\",\"value\":\"1241636566759550976\",\"type\":\"https://api.twitter.com/labs/2/problems/resource-not-found\"},{\"detail\":\"Could not find tweet with ids: [1241636571138240512].\",\"title\":\"Not Found Error\",\"resource_type\":\"tweet\",\"parameter\":\"ids\",\"value\":\"1241636571138240512\",\"type\":\"https://api.twitter.com/labs/2/problems/resource-not-found\"},{\"detail\":\"Could not find tweet with ids: [1241636571255717889].\",\"title\":\"Not Found Error\",\"resource_type\":\"tweet\",\"parameter\":\"ids\",\"value\":\"1241636571255717889\",\"type\":\"https://api.twitter.com/labs/2/problems/resource-not-found\"},{\"detail\":\"Could not find tweet with ids: [1241636580088922112].\",\"title\":\"Not Found Error\",\"resource_type\":\"tweet\",\"parameter\":\"ids\",\"value\":\"1241636580088922112\",\"type\":\"https://api.twitter.com/labs/2/problems/resource-not-found\"},{\"resource_id\":\"1241636584027545600\",\"section\":\"data\",\"title\":\"Authorization Error\",\"detail\":\"Sorry, you are not authorized to see this Tweet.\",\"resource_type\":\"tweet\",\"type\":\"https://api.twitter.com/labs/2/problems/not-authorized-for-resource\"},{\"resource_id\":\"1241636584287543297\",\"section\":\"data\",\"title\":\"Authorization Error\",\"detail\":\"Sorry, you are not authorized to see this Tweet.\",\"resource_type\":\"tweet\",\"type\":\"https://api.twitter.com/labs/2/problems/not-authorized-for-resource\"},{\"detail\":\"Could not find tweet with ids: [1241636587802263552].\",\"title\":\"Not Found Error\",\"resource_type\":\"tweet\",\"parameter\":\"ids\",\"value\":\"1241636587802263552\",\"type\":\"https://api.twitter.com/labs/2/problems/resource-not-found\"}]}\n"
     ]
    }
   ],
   "source": [
    "# print first two lines of the first file in the list filenames\n",
    "with open(os.path.join(os.getcwd(), 'tweets/', filenames[0]), 'r', encoding=\"utf8\") as file:\n",
    "    print('\\n'.join([file.readline().strip() for i in range(0,1)]))"
   ]
  },
  {
   "cell_type": "markdown",
   "metadata": {},
   "source": [
    "### 2. Parsing Tweets (JSON Format)\n",
    "After we manage to extract the text of every file given, we have to parse the text with Regular Expressions. Each tweet has the following structure:\n",
    "    1. id: A 19-digit number.\n",
    "    2. text: The text of the tweet.\n",
    "    3. Created_at: The date and time that the tweet was created\n",
    "    \n",
    "    \n",
    "In the following code we test the Regular Expressions selected to extract the information in the first file of the list filenames. \n",
    "\n",
    "#### 2.1 Regular Expressions:\n",
    "\n",
    "   - **Text:** \n",
    "   \n",
    "   $\\text{\"text\":(.*?)(?:\"created_at\":\"|\"id\":\"|\"errors\":|\"withheld\":)}$\n",
    "   \n",
    "       A capturing group that gets every text between **\"text\":\"** and any of the following statements **\"created_at\":\" or \"id\":\" or \"errors\": or \"withheld\":** by using the lazy quantifier ? we make sure that we get only the text of one tweet as it will stop when the first statement found.\n",
    "       \n",
    "<img src=\"./images/text.png\" width=\"500\" height=\"250\">\n",
    " \n",
    "   - **Created_at:** \n",
    "   \n",
    "   $\\text{\"created_at\":\"(.*?)T}$\n",
    "   \n",
    "       A capturing group that gets every text between **\"created_at\":\"** and **T** by using the lazy quantifier ? we make sure that we get only the text of one tweet as it will stop when the first **T** is found. We are not interested in getting the time, that is why we get rid of it and we stop when the first **T** is found.\n",
    "\n",
    "\n",
    "<img src=\"./images/created_at.png\" width=\"500\" height=\"250\">\n",
    "       \n",
    "   - **ID:** \n",
    "   \n",
    "   $\\text{\"id\":\"(\\d{19})}$\n",
    "   \n",
    "       A capturing group that gets every 19 digits that are after **\"id\":\"**\n",
    "\n",
    "<img src=\"./images/id.png\" width=\"300\" height=\"150\">\n",
    "\n",
    "\n",
    "#### 2.2 Fixing text of the tweets\n",
    "\n",
    "##### 2.2.1 Strip special combinations of characters\n",
    "After we parse the text of the tweets with this regular expression: $\\text{\"text\":\"(.*?)(?:\"created_at\":\"|\"id\":\"|\"errors\":)}$, we have to get rid of combinations of special characters. There are three possible combinations:\n",
    "\n",
    "> **\",**  |   \n",
    "If the text is the first or the second attribute of the JSON object {\"text\":\"*tweet*,\"created_at\"} or {\"text\":\"*tweet*,\"id\"}, there will be this combination to be removed\n",
    "\n",
    "> **\"},{**  |\n",
    "If the text is the last attribute of the JSON object {\"created_at\", \"text\":\"*tweet*} or {\"id\", \"text\":\"*tweet*}, and there is another JSON object next to it there will be this combination to be removed\n",
    "\n",
    "> **\"}],**  |\n",
    "If the text is the last attribute of the JSON object {\"created_at\", \"text\":\"*tweet*} or {\"id\", \"text\":\"*tweet*}, and there is not another JSON object next to it there will be this combination to be removed\n",
    "\n",
    "##### 2.2.2 Escaping special XML characters:\n",
    "\n",
    "There are some special characters that must be replaced in order to make the text readable in a XML format, these characters are in the table showed in the table:\n",
    "\n",
    "|Special character|\tescaped form|\tgets replaced by|\n",
    ":--:|:--:|:--:|\n",
    "|Ampersand|\t$\\text{&amp;}$ |\t&|\n",
    "|Less-than|\t$\\text{&lt;}$|\t<|\n",
    "|Greater-than|\t$\\text{&gt;}$|\t>|\n",
    "|Quotes|\t$\\text{&quot;}$\t|\"|\n",
    "|Apostrophe\t|$\\text{&apos;}$\t|'|\n",
    "\n",
    "\n",
    "##### 2.2.3  Surrogate Pairs:\n",
    "We have to encode the text as follows in order to get the text exactly as it was posted and not getting codes for emojis or blank spaces.\n",
    "```python\n",
    "    eval(string).encode('utf-16', 'surrogatepass').decode('utf-16')\n",
    "```\n",
    "\n",
    "$ $\n",
    "\n",
    "The text parsed from the .txt file needs to be fixed with these three thing mentioned above, that is why a funtion is created"
   ]
  },
  {
   "cell_type": "code",
   "execution_count": 4,
   "metadata": {},
   "outputs": [],
   "source": [
    "def fix_text(str):\n",
    "    # Remove special combination of characters at the end of the text\n",
    "    str = str.rstrip(',') # Scenario 1\n",
    "    str = str.rstrip('},{') # Scenario 2\n",
    "    str = str.rstrip('}]') # Scenario 3\n",
    "    \n",
    "    # Surrogate pairs\n",
    "    str = eval(str).encode('utf-16', 'surrogatepass').decode('utf-16')\n",
    "    \n",
    "    # Replace escaping special XML characters\n",
    "    str = str.replace(\"&\", \"&amp;\")\n",
    "    str = str.replace(\"<\", \"&lt;\")\n",
    "    str = str.replace(\">\", \"&gt;\")\n",
    "    str = str.replace('\"', \"&quot;\")\n",
    "    str = str.replace(\"'\", \"&apos;\")\n",
    "    \n",
    "\n",
    "    return str"
   ]
  },
  {
   "cell_type": "code",
   "execution_count": 5,
   "metadata": {},
   "outputs": [
    {
     "name": "stdout",
     "output_type": "stream",
     "text": [
      "Tweet 1:\n",
      "  Text: The last line though ..what a tone.. https://t.co/TqH0DBWhB4\n",
      "  Created at: 2020-03-22\n",
      "  ID: 1241636537961517056\n",
      "\n",
      "\n",
      "Tweet 2:\n",
      "  Text: 👇 https://t.co/sQmCOVaL3l\n",
      "  Created at: 2020-03-22\n",
      "  ID: 1241636537990664193\n",
      "\n",
      "\n",
      "Tweet 3:\n",
      "  Text: @BDUTT https://t.co/Vylmpnh8c4\n",
      "  Created at: 2020-03-22\n",
      "  ID: 1241636538061996038\n",
      "\n",
      "\n",
      "There are 84 tweets to be parsed in the first file of filenames\n"
     ]
    }
   ],
   "source": [
    "# Parse the first file in the list filenames and print the information of the first tweet\n",
    "with open(os.path.join(os.getcwd(), 'part1/', filenames[0]), 'r', encoding=\"utf8\") as file: # Open the file that is in a folder called part1\n",
    "    file_text = file.read() # Get the text of the file\n",
    "    text = re.findall('\"text\":(.*?)(?:\"created_at\":\"|\"id\":\"|\"errors\":|\"withheld\":)', file_text) # Get the text after \"text\":\" and before \"\"created_at\":\", \"id\":\", \"errors\": or \"withheld\":\n",
    "    created_at = re.findall('\"created_at\":\"(.*?)T', file_text) # Get the text after \"created_at\":\" and before T\n",
    "    id_ = re.findall('\"id\":\"(\\d{19})', file_text) # Get 19 numbers after \"id\":\"\n",
    "    \n",
    "# Print the information parsed of the fist 3 tweets. To check if the Regular Expressions are working properly\n",
    "for i in range(3):\n",
    "    tweet = fix_text(text[i]) # Fix the text parsed with the XML format and encoded with utf-16\n",
    "    print('Tweet ' + str(i+1) +':\\n  Text: ' + tweet + \"\\n  Created at: \" + created_at[i]+'\\n  ID: ' + id_[i]+'\\n\\n')\n",
    "    \n",
    "print('There are ' + str(len(text)) + \" tweets to be parsed in the first file of filenames\")"
   ]
  },
  {
   "cell_type": "markdown",
   "metadata": {},
   "source": [
    "### 4. Filtering English Tweets\n",
    "By using the library 'Langid' we can filter out the non-english tweets, as we are only interested in those that are written in English. We have to identify the language of each tweet and then classify it, in the following example we extract the language of the first 10 tweets of the first file in filenames"
   ]
  },
  {
   "cell_type": "code",
   "execution_count": 6,
   "metadata": {},
   "outputs": [
    {
     "name": "stdout",
     "output_type": "stream",
     "text": [
      "English tweet: The last line though ..what a tone.. https://t.co/TqH0DBWhB4\n",
      "\n",
      "Non-english tweet: 👇 https://t.co/sQmCOVaL3l\n",
      "\n",
      "English tweet: @BDUTT https://t.co/Vylmpnh8c4\n",
      "\n",
      "Non-english tweet: #Israel: #coronavirus\n",
      "▫️945 enfermos \n",
      "▫️1 muerte\n",
      "\n",
      "Hasta hoy, no se ha aplicado cuarentena obligatoria, se ha apelado a la responsabilidad individual, se han restringido desplazamientos y a transgresores, aplicación de fuertes multas.\n",
      "\n",
      "#coronavirus \n",
      "#COVID19\n",
      "\n",
      "English tweet: @TwitterSupport. This is dangerous disinformation that will lead to deaths. Please remove this tweet. https://t.co/eRHkanb4RA\n",
      "\n",
      "English tweet: Sebi na one President be this https://t.co/zrl9zXeZ71\n",
      "\n",
      "Non-english tweet: *cue eerie music* https://t.co/mTH0JmhayG\n",
      "\n",
      "Non-english tweet: Che presa per il culo... #Coronavirus, ecco l’#Italia che non si ferma: quali sono i servizi essenziali - Il Sole 24 ORE @sole24ore https://t.co/T6pBLn4cHf\n",
      "\n",
      "English tweet: This tweet didn’t age well. https://t.co/4o3WZBTULZ\n",
      "\n",
      "English tweet: @OFB_India #JantaCurfewMarch22 @narendramodi\n",
      "To join the fight against coronavirus, I have taken the Janta Curfew Pledge and committed myself towards keeping the country safe. You can also take the pledge at https://t.co/eTCtdnmXA0 https://t.co/UDPNW1LhnN via @mygovindia\n",
      "\n"
     ]
    }
   ],
   "source": [
    "en_tweets = []\n",
    "date_en_tweets = []\n",
    "id_en_tweets = []\n",
    "for i in range(10):\n",
    "    tweet = fix_text(text[i]) # Fix the text parsed with the XML format and encoded with utf-16\n",
    "    if langid.classify(tweet)[0] == 'en':\n",
    "        print('English tweet: ' + tweet + '\\n')\n",
    "        en_tweets.append(tweet)\n",
    "        date_en_tweets.append(created_at[i])\n",
    "        id_en_tweets.append(id_[i])\n",
    "    else:\n",
    "        print('Non-english tweet: ' + tweet + '\\n')"
   ]
  },
  {
   "cell_type": "code",
   "execution_count": 7,
   "metadata": {},
   "outputs": [
    {
     "name": "stdout",
     "output_type": "stream",
     "text": [
      "\n",
      "Only 6 tweets out of 10, are written in English\n"
     ]
    }
   ],
   "source": [
    "print('\\nOnly ' + str(len(en_tweets)) + ' tweets out of 10, are written in English')"
   ]
  },
  {
   "cell_type": "markdown",
   "metadata": {},
   "source": [
    "## 5. Store the tweets in a dictionary with XML format\n",
    "After parsing all the .txt files given and filtering out the non-english tweets, we proceed to store the information in a dictionary where the keys are the dates, and the values are going to be a list with all the tweets written this date.\n",
    "The dates and the texts stored in the dictionary are going to have the XML format as follows:\n",
    "\n",
    "#### Date:\n",
    "\n",
    "    <tweets date= \"(yyyy-mm-dd)\">\n",
    "    \n",
    "#### Text:\n",
    "\n",
    "    <tweet id=\"(id)\">(text of the English tweet)</tweet>"
   ]
  },
  {
   "cell_type": "code",
   "execution_count": 8,
   "metadata": {},
   "outputs": [
    {
     "data": {
      "text/plain": [
       "{'<tweets date=\"2020-03-22\">': ['<tweet id=\"1241636537961517056\">The last line though ..what a tone.. https://t.co/TqH0DBWhB4</tweet>',\n",
       "  '<tweet id=\"1241636538061996038\">@BDUTT https://t.co/Vylmpnh8c4</tweet>',\n",
       "  '<tweet id=\"1241636538192023553\">@TwitterSupport. This is dangerous disinformation that will lead to deaths. Please remove this tweet. https://t.co/eRHkanb4RA</tweet>',\n",
       "  '<tweet id=\"1241636538238349318\">Sebi na one President be this https://t.co/zrl9zXeZ71</tweet>',\n",
       "  '<tweet id=\"1241636541882982400\">This tweet didn’t age well. https://t.co/4o3WZBTULZ</tweet>',\n",
       "  '<tweet id=\"1241636542067527681\">@OFB_India #JantaCurfewMarch22 @narendramodi\\nTo join the fight against coronavirus, I have taken the Janta Curfew Pledge and committed myself towards keeping the country safe. You can also take the pledge at https://t.co/eTCtdnmXA0 https://t.co/UDPNW1LhnN via @mygovindia</tweet>']}"
      ]
     },
     "execution_count": 8,
     "metadata": {},
     "output_type": "execute_result"
    }
   ],
   "source": [
    "twetts_dict = {}\n",
    "for i in range(len(en_tweets)):\n",
    "    xml_date = '<tweets date=\"' + date_en_tweets[i] +'\">'\n",
    "    xml_tweet = '<tweet id=\"' + id_en_tweets[i] + '\">' + en_tweets[i] + '</tweet>'\n",
    "\n",
    "    if xml_date in twetts_dict:\n",
    "        twetts_dict[xml_date].append(xml_tweet)\n",
    "    else:\n",
    "        twetts_dict[xml_date] = [xml_tweet]\n",
    "twetts_dict"
   ]
  },
  {
   "cell_type": "markdown",
   "metadata": {},
   "source": [
    "## 6. Get code together and Store the information\n",
    "The process shown above is written all together in a code shown below, after this to store the information parsed in the dictionary *twetts_dict* with the XML Format."
   ]
  },
  {
   "cell_type": "code",
   "execution_count": 9,
   "metadata": {},
   "outputs": [],
   "source": [
    "twetts_dict = {} # Dictionary that will store the information parsed from the .txt files\n",
    "\n",
    "for filename in os.listdir(os.path.join(os.getcwd(), 'part1/')): # Get every file in the folder where is this notebook\n",
    "\n",
    "    with open(os.path.join(os.getcwd(), 'part1/', filename), 'r', encoding=\"utf8\") as file: # Open the file \n",
    "        file_text = file.read() # Get the text of the file\n",
    "        text = re.findall('\"text\":(.*?)(?:\"created_at\":\"|\"id\":\"|\"errors\":|\"withheld\":)', file_text) # Get the text after \"text\":\" and before \", or \"}\n",
    "        created_at = re.findall('\"created_at\":\"(.*?)T', file_text) # Get the text after \"created_at\":\" and before T\n",
    "        id_ = re.findall('\"id\":\"(\\d{19})', file_text) # Get 19 numbers after \"id\":\"\n",
    "\n",
    "        for i in range(len(text)): # For every match of text captured with the regular expressions above\n",
    "            \n",
    "            tweet = fix_text(text[i]) # Fix the text parsed with the XML format and encoded with utf-16\n",
    "            if langid.classify(tweet)[0] == 'en': # If the tweet is written in English\n",
    "                xml_date = '<tweets date=\"' + created_at[i] +'\">' # XML Format of the date (key)\n",
    "                xml_tweet = '<tweet id=\"' + id_[i] + '\">' + tweet + '</tweet>' # XML Format of the id and text (Value)\n",
    "\n",
    "                if xml_date in twetts_dict: # If the date is already stored in the dictionary\n",
    "                    twetts_dict[xml_date].append(xml_tweet) # Append a new tweet related to this date\n",
    "                else: \n",
    "                    twetts_dict[xml_date] = [xml_tweet] # Create a new key and value"
   ]
  },
  {
   "cell_type": "markdown",
   "metadata": {},
   "source": [
    "## 7. Write XML File\n",
    "Finally, with the information stored in *twetts_dict* we create a XML File called **30550971.xml** with the structure showed below, and it will be stored in the same folder as this notebook."
   ]
  },
  {
   "cell_type": "code",
   "execution_count": 10,
   "metadata": {},
   "outputs": [],
   "source": [
    "xml_file = open('30550971.xml', 'w', encoding='utf8') \n",
    "xml_file.write('<?xml version=\"1.0\" encoding=\"UTF-8\"?>')\n",
    "xml_file.write('<data>')\n",
    "\n",
    "for date in twetts_dict:\n",
    "    xml_file.write(date)\n",
    "    for tweet in twetts_dict[date]:\n",
    "        xml_file.write(tweet)\n",
    "    \n",
    "    xml_file.write('</tweets>')\n",
    "    \n",
    "xml_file.write('</data>')\n",
    "xml_file.close()"
   ]
  },
  {
   "cell_type": "markdown",
   "metadata": {},
   "source": [
    "## References\n",
    "\n",
    "[Open files with os library](https://stackoverflow.com/questions/18262293/how-to-open-every-file-in-a-folder)\n",
    "\n",
    "[Open only .txt files in a folder](https://stackoverflow.com/questions/3964681/find-all-files-in-a-directory-with-extension-txt-in-python)\n",
    "\n",
    "[Classify english tweets](https://stackoverflow.com/questions/39142778/python-how-to-determine-the-language)\n",
    "\n",
    "[Create a new XML file](https://www.w3schools.com/python/python_file_write.asp)\n",
    "\n",
    "[Create a new line in a XML file](https://www.kite.com/python/answers/how-to-append-a-newline-to-a-file-in-python#:~:text=Use%20file.,append%20a%20newline%20to%20file%20.)\n",
    "\n",
    "[Escape especial charecters in XML](https://stackoverflow.com/questions/1546717/escaping-strings-for-use-in-xml)"
   ]
  }
 ],
 "metadata": {
  "kernelspec": {
   "display_name": "Python 3",
   "language": "python",
   "name": "python3"
  },
  "language_info": {
   "codemirror_mode": {
    "name": "ipython",
    "version": 3
   },
   "file_extension": ".py",
   "mimetype": "text/x-python",
   "name": "python",
   "nbconvert_exporter": "python",
   "pygments_lexer": "ipython3",
   "version": "3.8.3"
  }
 },
 "nbformat": 4,
 "nbformat_minor": 4
}
